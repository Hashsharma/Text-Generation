{
 "cells": [
  {
   "cell_type": "code",
   "execution_count": 1,
   "metadata": {},
   "outputs": [
    {
     "name": "stderr",
     "output_type": "stream",
     "text": [
      "d:\\mr_document\\dl_venv\\lib\\site-packages\\tqdm\\auto.py:21: TqdmWarning: IProgress not found. Please update jupyter and ipywidgets. See https://ipywidgets.readthedocs.io/en/stable/user_install.html\n",
      "  from .autonotebook import tqdm as notebook_tqdm\n"
     ]
    }
   ],
   "source": [
    "from transformers import pipeline\n",
    "from pdf2image import convert_from_path"
   ]
  },
  {
   "cell_type": "code",
   "execution_count": 3,
   "metadata": {},
   "outputs": [
    {
     "name": "stderr",
     "output_type": "stream",
     "text": [
      "Device set to use cuda:0\n"
     ]
    }
   ],
   "source": [
    "model_path = \"../../models/\"\n",
    "nlp = pipeline(\n",
    "    \"document-question-answering\",\n",
    "    model=model_path,\n",
    ")"
   ]
  },
  {
   "cell_type": "code",
   "execution_count": 4,
   "metadata": {},
   "outputs": [],
   "source": [
    "\n",
    "# def pdf_to_images(pdf_path, output_folder):\n",
    "#     # Convert the PDF to a list of images (one per page)\n",
    "#     images = convert_from_path(pdf_path)\n",
    "    \n",
    "#     # Save each image as a separate file\n",
    "#     for i, image in enumerate(images):\n",
    "#         image_path = f\"{output_folder}/page_{i + 1}.png\"\n",
    "#         image.save(image_path, \"PNG\")\n",
    "#         print(f\"Page {i + 1} saved as {image_path}\")\n",
    "\n",
    "# # Example usage:\n",
    "# pdf_path = 'test.pdf'  # Specify your PDF file path\n",
    "# output_folder = '../src/'  # Specify the folder to save images\n",
    "# pdf_to_images(pdf_path, output_folder)"
   ]
  },
  {
   "cell_type": "code",
   "execution_count": 5,
   "metadata": {},
   "outputs": [
    {
     "data": {
      "text/plain": [
       "[{'score': 0.9998443126678467,\n",
       "  'answer': 'Represents the dot product operation between the input and the kernel.',\n",
       "  'start': 113,\n",
       "  'end': 123}]"
      ]
     },
     "execution_count": 5,
     "metadata": {},
     "output_type": "execute_result"
    }
   ],
   "source": [
    "nlp(\n",
    "    \"../resource/Screenshot 2025-02-25 201713.png\",\n",
    "    \"What is dot?\"\n",
    ")"
   ]
  },
  {
   "cell_type": "code",
   "execution_count": null,
   "metadata": {},
   "outputs": [],
   "source": []
  },
  {
   "cell_type": "code",
   "execution_count": null,
   "metadata": {},
   "outputs": [],
   "source": []
  }
 ],
 "metadata": {
  "kernelspec": {
   "display_name": "dl_venv",
   "language": "python",
   "name": "dl_venv"
  },
  "language_info": {
   "codemirror_mode": {
    "name": "ipython",
    "version": 3
   },
   "file_extension": ".py",
   "mimetype": "text/x-python",
   "name": "python",
   "nbconvert_exporter": "python",
   "pygments_lexer": "ipython3",
   "version": "3.10.9"
  }
 },
 "nbformat": 4,
 "nbformat_minor": 2
}
